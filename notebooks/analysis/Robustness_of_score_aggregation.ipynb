{
 "cells": [
  {
   "cell_type": "code",
   "execution_count": 1,
   "metadata": {},
   "outputs": [],
   "source": [
    "import pandas as pd\n",
    "import numpy as np\n",
    "from collections import defaultdict"
   ]
  },
  {
   "cell_type": "code",
   "execution_count": 2,
   "metadata": {},
   "outputs": [
    {
     "name": "stdout",
     "output_type": "stream",
     "text": [
      "/Users/malte.luecken/helmholtz_munich/benchmarking_data_integration/Benchmarking_data_integration/notebooks/analysis\r\n"
     ]
    }
   ],
   "source": [
    "!pwd"
   ]
  },
  {
   "cell_type": "code",
   "execution_count": 3,
   "metadata": {},
   "outputs": [],
   "source": [
    "files = !ls ../../../Paper/202010_Revision/Supplementary\\ Files/Results/*.csv\n",
    "#files = !ls ../../../Paper/Supplementary\\ Files/Results/*.csv"
   ]
  },
  {
   "cell_type": "code",
   "execution_count": 4,
   "metadata": {},
   "outputs": [],
   "source": [
    "data = {file:pd.read_csv(file) for file in files}"
   ]
  },
  {
   "cell_type": "markdown",
   "metadata": {},
   "source": [
    "# Test robustness to other score aggregation approaches (e.g., z-scores)"
   ]
  },
  {
   "cell_type": "code",
   "execution_count": 5,
   "metadata": {},
   "outputs": [],
   "source": [
    "batch_scores = ['PCR batch', 'Batch ASW', 'graph iLISI', 'graph connectivity', 'kBET']\n",
    "bio_scores = ['NMI cluster/label', 'ARI cluster/label', 'Cell type ASW', 'isolated label F1', 'isolated label silhouette', 'graph cLISI', 'CC conservation', 'HVG conservation']"
   ]
  },
  {
   "cell_type": "code",
   "execution_count": 6,
   "metadata": {},
   "outputs": [],
   "source": [
    "def max_min_scale_cols(df):\n",
    "    return((df - df.min())/(df.max() - df.min()))\n",
    "\n",
    "def z_score(df):\n",
    "    return((df - df.mean())/df.std())"
   ]
  },
  {
   "cell_type": "markdown",
   "metadata": {},
   "source": [
    "## For RNA & Sims:"
   ]
  },
  {
   "cell_type": "code",
   "execution_count": 7,
   "metadata": {},
   "outputs": [],
   "source": [
    "def test_ranking(df):\n",
    "    from scipy.stats import spearmanr\n",
    "    \n",
    "    batch_scores = ['PCR batch', 'Batch ASW', 'graph iLISI', 'graph connectivity', 'kBET']\n",
    "    bio_scores = ['NMI cluster/label', 'ARI cluster/label', 'Cell type ASW', 'isolated label F1', 'isolated label silhouette', 'graph cLISI', 'CC conservation', 'HVG conservation', 'trajectory conservation']\n",
    "    \n",
    "    batch_score_sub = [bs for bs in batch_scores if bs in df.columns]\n",
    "    bio_score_sub = [bs for bs in bio_scores if bs in df.columns]\n",
    "    \n",
    "    df['Batch_Correction_zsc'] = z_score(df[batch_score_sub]).mean(1)\n",
    "    df['Bio_conservation_zsc'] = z_score(df[bio_score_sub]).mean(1)\n",
    "    df['Overall_Score_zsc'] = 0.4*df['Batch_Correction_zsc'] + 0.6*df['Bio_conservation_zsc']\n",
    "    \n",
    "    if 'Features' in df.columns:\n",
    "        df['Method_id'] = ['_'.join(df[['Method', 'Output', 'Features', 'Scaling']].values[i]) for i in range(df.shape[0])]\n",
    "    else:\n",
    "        df['Method_id'] = ['_'.join(df[['Method', 'Output']].values[i]) for i in range(df.shape[0])]\n",
    "    \n",
    "    sorted_df = df[['Method_id', 'Overall_Score_zsc', 'Overall Score']].sort_values(by='Overall_Score_zsc', ascending=False)\n",
    "\n",
    "    sorted_df['rank'] = [i for i in range(sorted_df.shape[0])]\n",
    "    \n",
    "    test_statistic = spearmanr(sorted_df['rank'].values, sorted_df.index)[0]\n",
    "    \n",
    "    return (test_statistic, pd.DataFrame({'Method_id':sorted_df['Method_id'], 'rank_zsc':sorted_df['rank'].values, 'rank_init':sorted_df.index}))"
   ]
  },
  {
   "cell_type": "code",
   "execution_count": 8,
   "metadata": {},
   "outputs": [
    {
     "name": "stdout",
     "output_type": "stream",
     "text": [
      "../../../Paper/202010_Revision/Supplementary Files/Results/immune_cell_hum_mou_summary_scores.csv\n"
     ]
    },
    {
     "data": {
      "text/plain": [
       "(0.9879430032882719,                          Method_id  rank_zsc  rank_init\n",
       " 0         scGen*_gene_HVG_unscaled         0          0\n",
       " 4         BBKNN_graph_HVG_unscaled         1          4\n",
       " 1       Scanorama_embed_HVG_scaled         2          1\n",
       " 10       scGen*_gene_FULL_unscaled         3         10\n",
       " 6            MNN_gene_HVG_unscaled         4          6\n",
       " ..                             ...       ...        ...\n",
       " 64   Seurat v3 CCA_gene_HVG_scaled        64         64\n",
       " 65  Seurat v3 CCA_gene_FULL_scaled        65         65\n",
       " 66        trVAE_embed_HVG_unscaled        66         66\n",
       " 67       trVAE_embed_FULL_unscaled        67         67\n",
       " 68         scGen*_gene_FULL_scaled        68         68\n",
       " \n",
       " [69 rows x 3 columns])"
      ]
     },
     "execution_count": 8,
     "metadata": {},
     "output_type": "execute_result"
    },
    {
     "name": "stdout",
     "output_type": "stream",
     "text": [
      "../../../Paper/202010_Revision/Supplementary Files/Results/immune_cell_hum_summary_scores.csv\n"
     ]
    },
    {
     "data": {
      "text/plain": [
       "(0.9758860065765439,                        Method_id  rank_zsc  rank_init\n",
       " 0     Scanorama_embed_HVG_scaled         0          0\n",
       " 1     fastMNN_embed_HVG_unscaled         1          1\n",
       " 13      scGen*_gene_HVG_unscaled         2         13\n",
       " 11     fastMNN_gene_HVG_unscaled         3         11\n",
       " 3   Scanorama_embed_HVG_unscaled         4          3\n",
       " ..                           ...       ...        ...\n",
       " 63     SAUCIE_embed_HVG_unscaled        64         63\n",
       " 66     SAUCIE_gene_FULL_unscaled        65         66\n",
       " 65    SAUCIE_embed_FULL_unscaled        66         65\n",
       " 67        scGen*_gene_HVG_scaled        67         67\n",
       " 68       scGen*_gene_FULL_scaled        68         68\n",
       " \n",
       " [69 rows x 3 columns])"
      ]
     },
     "execution_count": 8,
     "metadata": {},
     "output_type": "execute_result"
    },
    {
     "name": "stdout",
     "output_type": "stream",
     "text": [
      "../../../Paper/202010_Revision/Supplementary Files/Results/lung_atlas_summary_scores.csv\n"
     ]
    },
    {
     "data": {
      "text/plain": [
       "(0.9640116916331751,                            Method_id  rank_zsc  rank_init\n",
       " 0           scGen*_gene_HVG_unscaled         0          0\n",
       " 1          scGen*_gene_FULL_unscaled         1          1\n",
       " 2   Seurat v3 RPCA_gene_HVG_unscaled         2          2\n",
       " 3         scANVI*_embed_HVG_unscaled         3          3\n",
       " 16          BBKNN_graph_HVG_unscaled         4         16\n",
       " ..                               ...       ...        ...\n",
       " 65          SAUCIE_gene_HVG_unscaled        64         65\n",
       " 64         SAUCIE_embed_HVG_unscaled        65         64\n",
       " 66          LIGER_embed_HVG_unscaled        66         66\n",
       " 67         LIGER_embed_FULL_unscaled        67         67\n",
       " 68    Seurat v3 CCA_gene_FULL_scaled        68         68\n",
       " \n",
       " [69 rows x 3 columns])"
      ]
     },
     "execution_count": 8,
     "metadata": {},
     "output_type": "execute_result"
    },
    {
     "name": "stdout",
     "output_type": "stream",
     "text": [
      "../../../Paper/202010_Revision/Supplementary Files/Results/mouse_brain_summary_scores.csv\n"
     ]
    },
    {
     "data": {
      "text/plain": [
       "(0.995475113122172,                           Method_id  rank_zsc  rank_init\n",
       " 1          BBKNN_graph_HVG_unscaled         0          1\n",
       " 0        scANVI*_embed_HVG_unscaled         1          0\n",
       " 6         BBKNN_graph_FULL_unscaled         2          6\n",
       " 2            BBKNN_graph_HVG_scaled         3          2\n",
       " 4          ComBat_gene_HVG_unscaled         4          4\n",
       " 3           BBKNN_graph_FULL_scaled         5          3\n",
       " 5        Scanorama_embed_HVG_scaled         6          5\n",
       " 8         Scanorama_gene_HVG_scaled         7          8\n",
       " 7           scVI_embed_HVG_unscaled         8          7\n",
       " 9          LIGER_embed_HVG_unscaled         9          9\n",
       " 11      Scanorama_gene_HVG_unscaled        10         11\n",
       " 14           ComBat_gene_HVG_scaled        11         14\n",
       " 12         Harmony_embed_HVG_scaled        12         12\n",
       " 10      scANVI*_embed_FULL_unscaled        13         10\n",
       " 13         fastMNN_embed_HVG_scaled        14         13\n",
       " 16          fastMNN_gene_HVG_scaled        15         16\n",
       " 19       Harmony_embed_HVG_unscaled        16         19\n",
       " 17     Scanorama_embed_HVG_unscaled        17         17\n",
       " 15         scVI_embed_FULL_unscaled        18         15\n",
       " 20         Conos_graph_HVG_unscaled        19         20\n",
       " 18       fastMNN_embed_HVG_unscaled        20         18\n",
       " 22      Harmony_embed_FULL_unscaled        21         22\n",
       " 21            DESC_embed_HVG_scaled        22         21\n",
       " 23          DESC_embed_HVG_unscaled        23         23\n",
       " 26        fastMNN_gene_HVG_unscaled        24         26\n",
       " 24          SAUCIE_embed_HVG_scaled        25         24\n",
       " 27        Conos_graph_FULL_unscaled        26         27\n",
       " 25         DESC_embed_FULL_unscaled        27         25\n",
       " 28           SAUCIE_gene_HVG_scaled        28         28\n",
       " 29           DESC_embed_FULL_scaled        29         29\n",
       " 30    Scanorama_embed_FULL_unscaled        30         30\n",
       " 31     Scanorama_gene_FULL_unscaled        31         31\n",
       " 32         SAUCIE_embed_FULL_scaled        32         32\n",
       " 33          SAUCIE_gene_FULL_scaled        33         33\n",
       " 34  Unintegrated_gene_FULL_unscaled        34         34\n",
       " 38         SAUCIE_gene_HVG_unscaled        35         38\n",
       " 37        SAUCIE_embed_HVG_unscaled        36         37\n",
       " 35        SAUCIE_gene_FULL_unscaled        37         35\n",
       " 36       SAUCIE_embed_FULL_unscaled        38         36\n",
       " 39      Scanorama_embed_FULL_scaled        39         39\n",
       " 40       Scanorama_gene_FULL_scaled        40         40\n",
       " 41        Harmony_embed_FULL_scaled        41         41\n",
       " 42           Conos_graph_HVG_scaled        42         42\n",
       " 43          Conos_graph_FULL_scaled        43         43\n",
       " 44        ComBat_gene_FULL_unscaled        44         44\n",
       " 45          ComBat_gene_FULL_scaled        45         45\n",
       " 46        LIGER_embed_FULL_unscaled        46         46\n",
       " 47      fastMNN_embed_FULL_unscaled        47         47\n",
       " 48        fastMNN_embed_FULL_scaled        48         48\n",
       " 49       fastMNN_gene_FULL_unscaled        49         49\n",
       " 50         fastMNN_gene_FULL_scaled        50         50)"
      ]
     },
     "execution_count": 8,
     "metadata": {},
     "output_type": "execute_result"
    },
    {
     "name": "stdout",
     "output_type": "stream",
     "text": [
      "../../../Paper/202010_Revision/Supplementary Files/Results/pancreas_summary_scores.csv\n"
     ]
    },
    {
     "data": {
      "text/plain": [
       "(0.974643770551699,                            Method_id  rank_zsc  rank_init\n",
       " 5          Scanorama_gene_HVG_scaled         0          5\n",
       " 0    Seurat v3 CCA_gene_HVG_unscaled         1          0\n",
       " 1      Seurat v3 CCA_gene_HVG_scaled         2          1\n",
       " 2   Seurat v3 RPCA_gene_HVG_unscaled         3          2\n",
       " 4     Seurat v3 RPCA_gene_HVG_scaled         4          4\n",
       " ..                               ...       ...        ...\n",
       " 63          LIGER_embed_HVG_unscaled        64         63\n",
       " 65         LIGER_embed_FULL_unscaled        65         65\n",
       " 67         SAUCIE_gene_FULL_unscaled        66         67\n",
       " 66        SAUCIE_embed_FULL_unscaled        67         66\n",
       " 68           scGen*_gene_FULL_scaled        68         68\n",
       " \n",
       " [69 rows x 3 columns])"
      ]
     },
     "execution_count": 8,
     "metadata": {},
     "output_type": "execute_result"
    },
    {
     "name": "stdout",
     "output_type": "stream",
     "text": [
      "../../../Paper/202010_Revision/Supplementary Files/Results/simulations_1_1_summary_scores.csv\n"
     ]
    },
    {
     "data": {
      "text/plain": [
       "(0.9546949214468398,                            Method_id  rank_zsc  rank_init\n",
       " 5          scGen*_gene_FULL_unscaled         0          5\n",
       " 4   Seurat v3 CCA_gene_FULL_unscaled         1          4\n",
       " 0        fastMNN_embed_FULL_unscaled         2          0\n",
       " 6           scGen*_gene_HVG_unscaled         3          6\n",
       " 8              MNN_gene_HVG_unscaled         4          8\n",
       " ..                               ...       ...        ...\n",
       " 59           BBKNN_graph_FULL_scaled        64         59\n",
       " 61          fastMNN_embed_HVG_scaled        65         61\n",
       " 67         SAUCIE_gene_FULL_unscaled        66         67\n",
       " 66        SAUCIE_embed_FULL_unscaled        67         66\n",
       " 68   Unintegrated_gene_FULL_unscaled        68         68\n",
       " \n",
       " [69 rows x 3 columns])"
      ]
     },
     "execution_count": 8,
     "metadata": {},
     "output_type": "execute_result"
    },
    {
     "name": "stdout",
     "output_type": "stream",
     "text": [
      "../../../Paper/202010_Revision/Supplementary Files/Results/simulations_2_summary_scores.csv\n"
     ]
    },
    {
     "data": {
      "text/plain": [
       "(0.9885641213006943,                             Method_id  rank_zsc  rank_init\n",
       " 0            scGen*_gene_HVG_unscaled         0          0\n",
       " 5           scGen*_gene_FULL_unscaled         1          5\n",
       " 3       Seurat v3 CCA_gene_HVG_scaled         2          3\n",
       " 4     Seurat v3 CCA_gene_HVG_unscaled         3          4\n",
       " 1          Harmony_embed_HVG_unscaled         4          1\n",
       " ..                                ...       ...        ...\n",
       " 64          SAUCIE_embed_HVG_unscaled        64         64\n",
       " 65   Seurat v3 RPCA_gene_HVG_unscaled        65         65\n",
       " 66  Seurat v3 RPCA_gene_FULL_unscaled        66         66\n",
       " 67     Seurat v3 RPCA_gene_HVG_scaled        67         67\n",
       " 68    Seurat v3 RPCA_gene_FULL_scaled        68         68\n",
       " \n",
       " [69 rows x 3 columns])"
      ]
     },
     "execution_count": 8,
     "metadata": {},
     "output_type": "execute_result"
    }
   ],
   "source": [
    "for file in data.keys():\n",
    "    print(f'{file}')\n",
    "    test_ranking(data[file])"
   ]
  },
  {
   "cell_type": "code",
   "execution_count": 93,
   "metadata": {},
   "outputs": [
    {
     "name": "stdout",
     "output_type": "stream",
     "text": [
      "../../../Paper/Supplementary Files/Results/immune_cell_hum_mou_summary_scores.csv\n"
     ]
    },
    {
     "data": {
      "text/plain": [
       "(0.9426633110843636,                           Method_id  rank_zsc  rank_init\n",
       " 4          BBKNN_graph_HVG_unscaled         0          4\n",
       " 0        Scanorama_embed_HVG_scaled         1          0\n",
       " 1       Scanorama_embed_FULL_scaled         2          1\n",
       " 2           scVI_embed_HVG_unscaled         3          2\n",
       " 7             MNN_gene_HVG_unscaled         4          7\n",
       " 3          scVI_embed_FULL_unscaled         5          3\n",
       " 8         Scanorama_gene_HVG_scaled         6          8\n",
       " 5         ComBat_gene_FULL_unscaled         7          5\n",
       " 6               MNN_gene_HVG_scaled         8          6\n",
       " 9            ComBat_gene_HVG_scaled         9          9\n",
       " 12        BBKNN_graph_FULL_unscaled        10         12\n",
       " 10             MNN_gene_FULL_scaled        11         10\n",
       " 11          ComBat_gene_FULL_scaled        12         11\n",
       " 13     Scanorama_embed_HVG_unscaled        13         13\n",
       " 15      Scanorama_gene_HVG_unscaled        14         15\n",
       " 14         ComBat_gene_HVG_unscaled        15         14\n",
       " 19           MNN_gene_FULL_unscaled        16         19\n",
       " 18         Conos_graph_HVG_unscaled        17         18\n",
       " 16    Scanorama_embed_FULL_unscaled        18         16\n",
       " 21       Scanorama_gene_FULL_scaled        19         21\n",
       " 22        Conos_graph_FULL_unscaled        20         22\n",
       " 24           BBKNN_graph_HVG_scaled        21         24\n",
       " 25     Scanorama_gene_FULL_unscaled        22         25\n",
       " 17         Harmony_embed_HVG_scaled        23         17\n",
       " 26          BBKNN_graph_FULL_scaled        24         26\n",
       " 20       Harmony_embed_HVG_unscaled        25         20\n",
       " 23        Harmony_embed_FULL_scaled        26         23\n",
       " 27  Unintegrated_gene_FULL_unscaled        27         27\n",
       " 29          Conos_graph_FULL_scaled        28         29\n",
       " 30           Conos_graph_HVG_scaled        29         30\n",
       " 31      Harmony_embed_FULL_unscaled        30         31\n",
       " 28         LIGER_embed_HVG_unscaled        31         28\n",
       " 32        LIGER_embed_FULL_unscaled        32         32)"
      ]
     },
     "execution_count": 93,
     "metadata": {},
     "output_type": "execute_result"
    },
    {
     "name": "stdout",
     "output_type": "stream",
     "text": [
      "../../../Paper/Supplementary Files/Results/immune_cell_hum_summary_scores.csv\n"
     ]
    },
    {
     "data": {
      "text/plain": [
       "(0.9426633110843636,                           Method_id  rank_zsc  rank_init\n",
       " 0        Scanorama_embed_HVG_scaled         0          0\n",
       " 1          Conos_graph_HVG_unscaled         1          1\n",
       " 2      Scanorama_embed_HVG_unscaled         2          2\n",
       " 3       Scanorama_embed_FULL_scaled         3          3\n",
       " 9               MNN_gene_HVG_scaled         4          9\n",
       " 10            MNN_gene_HVG_unscaled         5         10\n",
       " 7         Conos_graph_FULL_unscaled         6          7\n",
       " 8       Scanorama_gene_HVG_unscaled         7          8\n",
       " 6          BBKNN_graph_HVG_unscaled         8          6\n",
       " 4     Scanorama_embed_FULL_unscaled         9          4\n",
       " 13          Conos_graph_FULL_scaled        10         13\n",
       " 5        Harmony_embed_HVG_unscaled        11          5\n",
       " 18             MNN_gene_FULL_scaled        12         18\n",
       " 16        Scanorama_gene_HVG_scaled        13         16\n",
       " 11          scVI_embed_HVG_unscaled        14         11\n",
       " 12        Harmony_embed_FULL_scaled        15         12\n",
       " 19        ComBat_gene_FULL_unscaled        16         19\n",
       " 20           ComBat_gene_HVG_scaled        17         20\n",
       " 14         scVI_embed_FULL_unscaled        18         14\n",
       " 17        BBKNN_graph_FULL_unscaled        19         17\n",
       " 22         ComBat_gene_HVG_unscaled        20         22\n",
       " 15         Harmony_embed_HVG_scaled        21         15\n",
       " 21     Scanorama_gene_FULL_unscaled        22         21\n",
       " 24          ComBat_gene_FULL_scaled        23         24\n",
       " 23       Scanorama_gene_FULL_scaled        24         23\n",
       " 30           MNN_gene_FULL_unscaled        25         30\n",
       " 25       Seurat v3_gene_FULL_scaled        26         25\n",
       " 28           BBKNN_graph_HVG_scaled        27         28\n",
       " 27          BBKNN_graph_FULL_scaled        28         27\n",
       " 26      Harmony_embed_FULL_unscaled        29         26\n",
       " 29      Seurat v3_gene_HVG_unscaled        30         29\n",
       " 31           Conos_graph_HVG_scaled        31         31\n",
       " 32        trVAE_embed_FULL_unscaled        32         32\n",
       " 33        Seurat v3_gene_HVG_scaled        33         33\n",
       " 34     Seurat v3_gene_FULL_unscaled        34         34\n",
       " 36        LIGER_embed_FULL_unscaled        35         36\n",
       " 35         trVAE_embed_HVG_unscaled        36         35\n",
       " 37  Unintegrated_gene_FULL_unscaled        37         37\n",
       " 38         LIGER_embed_HVG_unscaled        38         38)"
      ]
     },
     "execution_count": 93,
     "metadata": {},
     "output_type": "execute_result"
    },
    {
     "name": "stdout",
     "output_type": "stream",
     "text": [
      "../../../Paper/Supplementary Files/Results/lung_atlas_summary_scores.csv\n"
     ]
    },
    {
     "data": {
      "text/plain": [
       "(0.9426633110843636,                           Method_id  rank_zsc  rank_init\n",
       " 1          BBKNN_graph_HVG_unscaled         0          1\n",
       " 0         Conos_graph_FULL_unscaled         1          0\n",
       " 3          Conos_graph_HVG_unscaled         2          3\n",
       " 2        Scanorama_embed_HVG_scaled         3          2\n",
       " 7         BBKNN_graph_FULL_unscaled         4          7\n",
       " 4       Scanorama_embed_FULL_scaled         5          4\n",
       " 9             MNN_gene_HVG_unscaled         6          9\n",
       " 5      Scanorama_embed_HVG_unscaled         7          5\n",
       " 10              MNN_gene_HVG_scaled         8         10\n",
       " 6          scVI_embed_FULL_unscaled         9          6\n",
       " 13         ComBat_gene_HVG_unscaled        10         13\n",
       " 22           BBKNN_graph_HVG_scaled        11         22\n",
       " 8           scVI_embed_HVG_unscaled        12          8\n",
       " 12     Seurat v3_gene_FULL_unscaled        13         12\n",
       " 15      Seurat v3_gene_HVG_unscaled        14         15\n",
       " 18      Scanorama_gene_HVG_unscaled        15         18\n",
       " 17        Scanorama_gene_HVG_scaled        16         17\n",
       " 20        ComBat_gene_FULL_unscaled        17         20\n",
       " 23           MNN_gene_FULL_unscaled        18         23\n",
       " 24          BBKNN_graph_FULL_scaled        19         24\n",
       " 16          Conos_graph_FULL_scaled        20         16\n",
       " 11      Harmony_embed_FULL_unscaled        21         11\n",
       " 14         trVAE_embed_HVG_unscaled        22         14\n",
       " 26           ComBat_gene_HVG_scaled        23         26\n",
       " 19       Harmony_embed_HVG_unscaled        24         19\n",
       " 21    Scanorama_embed_FULL_unscaled        25         21\n",
       " 29          ComBat_gene_FULL_scaled        26         29\n",
       " 30             MNN_gene_FULL_scaled        27         30\n",
       " 25         Harmony_embed_HVG_scaled        28         25\n",
       " 27        Harmony_embed_FULL_scaled        29         27\n",
       " 28        trVAE_embed_FULL_unscaled        30         28\n",
       " 32  Unintegrated_gene_FULL_unscaled        31         32\n",
       " 31       Scanorama_gene_FULL_scaled        32         31\n",
       " 33     Scanorama_gene_FULL_unscaled        33         33\n",
       " 34           Conos_graph_HVG_scaled        34         34\n",
       " 35        Seurat v3_gene_HVG_scaled        35         35\n",
       " 36        LIGER_embed_FULL_unscaled        36         36\n",
       " 37         LIGER_embed_HVG_unscaled        37         37)"
      ]
     },
     "execution_count": 93,
     "metadata": {},
     "output_type": "execute_result"
    },
    {
     "name": "stdout",
     "output_type": "stream",
     "text": [
      "../../../Paper/Supplementary Files/Results/mouse_brain_summary_scores.csv\n"
     ]
    },
    {
     "data": {
      "text/plain": [
       "(0.9426633110843636,                           Method_id  rank_zsc  rank_init\n",
       " 0          BBKNN_graph_HVG_unscaled         0          0\n",
       " 1         BBKNN_graph_FULL_unscaled         1          1\n",
       " 2            BBKNN_graph_HVG_scaled         2          2\n",
       " 3           BBKNN_graph_FULL_scaled         3          3\n",
       " 4          ComBat_gene_HVG_unscaled         4          4\n",
       " 5           scVI_embed_HVG_unscaled         5          5\n",
       " 6            ComBat_gene_HVG_scaled         6          6\n",
       " 7        Scanorama_embed_HVG_scaled         7          7\n",
       " 12      Scanorama_gene_HVG_unscaled         8         12\n",
       " 8         Scanorama_gene_HVG_scaled         9          8\n",
       " 10         Harmony_embed_HVG_scaled        10         10\n",
       " 9          scVI_embed_FULL_unscaled        11          9\n",
       " 15     Scanorama_embed_HVG_unscaled        12         15\n",
       " 14       Harmony_embed_HVG_unscaled        13         14\n",
       " 11         LIGER_embed_HVG_unscaled        14         11\n",
       " 13         Conos_graph_HVG_unscaled        15         13\n",
       " 17      Harmony_embed_FULL_unscaled        16         17\n",
       " 16        Conos_graph_FULL_unscaled        17         16\n",
       " 18    Scanorama_embed_FULL_unscaled        18         18\n",
       " 19     Scanorama_gene_FULL_unscaled        19         19\n",
       " 20  Unintegrated_gene_FULL_unscaled        20         20)"
      ]
     },
     "execution_count": 93,
     "metadata": {},
     "output_type": "execute_result"
    },
    {
     "name": "stdout",
     "output_type": "stream",
     "text": [
      "../../../Paper/Supplementary Files/Results/pancreas_jointnorm_summary_scores.csv\n"
     ]
    },
    {
     "data": {
      "text/plain": [
       "(0.9426633110843636,                           Method_id  rank_zsc  rank_init\n",
       " 2           Conos_graph_FULL_scaled         0          2\n",
       " 3         Seurat v3_gene_HVG_scaled         1          3\n",
       " 4            Conos_graph_HVG_scaled         2          4\n",
       " 1       Seurat v3_gene_HVG_unscaled         3          1\n",
       " 0          BBKNN_graph_HVG_unscaled         4          0\n",
       " 5      Seurat v3_gene_FULL_unscaled         5          5\n",
       " 10        Scanorama_gene_HVG_scaled         6         10\n",
       " 6        Scanorama_embed_HVG_scaled         7          6\n",
       " 8        Seurat v3_gene_FULL_scaled         8          8\n",
       " 7         BBKNN_graph_FULL_unscaled         9          7\n",
       " 12        Conos_graph_FULL_unscaled        10         12\n",
       " 19           ComBat_gene_HVG_scaled        11         19\n",
       " 16         Conos_graph_HVG_unscaled        12         16\n",
       " 14      Scanorama_embed_FULL_scaled        13         14\n",
       " 9         Harmony_embed_FULL_scaled        14          9\n",
       " 11         Harmony_embed_HVG_scaled        15         11\n",
       " 13       Harmony_embed_HVG_unscaled        16         13\n",
       " 15          scVI_embed_HVG_unscaled        17         15\n",
       " 18     Scanorama_embed_HVG_unscaled        18         18\n",
       " 23          ComBat_gene_FULL_scaled        19         23\n",
       " 22      Scanorama_gene_HVG_unscaled        20         22\n",
       " 24         ComBat_gene_HVG_unscaled        21         24\n",
       " 25              MNN_gene_HVG_scaled        22         25\n",
       " 17           BBKNN_graph_HVG_scaled        23         17\n",
       " 27            MNN_gene_HVG_unscaled        24         27\n",
       " 21      Harmony_embed_FULL_unscaled        25         21\n",
       " 29             MNN_gene_FULL_scaled        26         29\n",
       " 20          BBKNN_graph_FULL_scaled        27         20\n",
       " 30        ComBat_gene_FULL_unscaled        28         30\n",
       " 26    Scanorama_embed_FULL_unscaled        29         26\n",
       " 28         trVAE_embed_HVG_unscaled        30         28\n",
       " 31         scVI_embed_FULL_unscaled        31         31\n",
       " 32        trVAE_embed_FULL_unscaled        32         32\n",
       " 33       Scanorama_gene_FULL_scaled        33         33\n",
       " 34           MNN_gene_FULL_unscaled        34         34\n",
       " 35     Scanorama_gene_FULL_unscaled        35         35\n",
       " 36  Unintegrated_gene_FULL_unscaled        36         36\n",
       " 37         LIGER_embed_HVG_unscaled        37         37\n",
       " 38        LIGER_embed_FULL_unscaled        38         38)"
      ]
     },
     "execution_count": 93,
     "metadata": {},
     "output_type": "execute_result"
    },
    {
     "name": "stdout",
     "output_type": "stream",
     "text": [
      "../../../Paper/Supplementary Files/Results/simulations_1_1_summary_scores.csv\n"
     ]
    },
    {
     "data": {
      "text/plain": [
       "(0.9426633110843636,                           Method_id  rank_zsc  rank_init\n",
       " 2             MNN_gene_HVG_unscaled         0          2\n",
       " 3      Seurat v3_gene_FULL_unscaled         1          3\n",
       " 6       Scanorama_gene_HVG_unscaled         2          6\n",
       " 4       Scanorama_embed_FULL_scaled         3          4\n",
       " 0      Scanorama_embed_HVG_unscaled         4          0\n",
       " 1     Scanorama_embed_FULL_unscaled         5          1\n",
       " 5        Scanorama_embed_HVG_scaled         6          5\n",
       " 8       Seurat v3_gene_HVG_unscaled         7          8\n",
       " 7           Conos_graph_FULL_scaled         8          7\n",
       " 9         Scanorama_gene_HVG_scaled         9          9\n",
       " 11              MNN_gene_HVG_scaled        10         11\n",
       " 14        ComBat_gene_FULL_unscaled        11         14\n",
       " 13             MNN_gene_FULL_scaled        12         13\n",
       " 15         ComBat_gene_HVG_unscaled        13         15\n",
       " 18           ComBat_gene_HVG_scaled        14         18\n",
       " 12        Seurat v3_gene_HVG_scaled        15         12\n",
       " 16       Seurat v3_gene_FULL_scaled        16         16\n",
       " 17       Scanorama_gene_FULL_scaled        17         17\n",
       " 21          ComBat_gene_FULL_scaled        18         21\n",
       " 10      Harmony_embed_FULL_unscaled        19         10\n",
       " 19        Harmony_embed_FULL_scaled        20         19\n",
       " 20       Harmony_embed_HVG_unscaled        21         20\n",
       " 25     Scanorama_gene_FULL_unscaled        22         25\n",
       " 22         Harmony_embed_HVG_scaled        23         22\n",
       " 24          scVI_embed_HVG_unscaled        24         24\n",
       " 26           Conos_graph_HVG_scaled        25         26\n",
       " 23        LIGER_embed_FULL_unscaled        26         23\n",
       " 28        BBKNN_graph_FULL_unscaled        27         28\n",
       " 27        trVAE_embed_FULL_unscaled        28         27\n",
       " 29        Conos_graph_FULL_unscaled        29         29\n",
       " 32         Conos_graph_HVG_unscaled        30         32\n",
       " 30         BBKNN_graph_HVG_unscaled        31         30\n",
       " 31         LIGER_embed_HVG_unscaled        32         31\n",
       " 33         scVI_embed_FULL_unscaled        33         33\n",
       " 35           MNN_gene_FULL_unscaled        34         35\n",
       " 34           BBKNN_graph_HVG_scaled        35         34\n",
       " 36         trVAE_embed_HVG_unscaled        36         36\n",
       " 37          BBKNN_graph_FULL_scaled        37         37\n",
       " 38  Unintegrated_gene_FULL_unscaled        38         38)"
      ]
     },
     "execution_count": 93,
     "metadata": {},
     "output_type": "execute_result"
    },
    {
     "name": "stdout",
     "output_type": "stream",
     "text": [
      "../../../Paper/Supplementary Files/Results/simulations_2_summary_scores.csv\n"
     ]
    },
    {
     "data": {
      "text/plain": [
       "(0.9426633110843636,                           Method_id  rank_zsc  rank_init\n",
       " 0         Seurat v3_gene_HVG_scaled         0          0\n",
       " 1       Seurat v3_gene_HVG_unscaled         1          1\n",
       " 2          Harmony_embed_HVG_scaled         2          2\n",
       " 3           Conos_graph_FULL_scaled         3          3\n",
       " 4        Harmony_embed_HVG_unscaled         4          4\n",
       " 5         Harmony_embed_FULL_scaled         5          5\n",
       " 6        Seurat v3_gene_FULL_scaled         6          6\n",
       " 7      Seurat v3_gene_FULL_unscaled         7          7\n",
       " 8            Conos_graph_HVG_scaled         8          8\n",
       " 10       Scanorama_embed_HVG_scaled         9         10\n",
       " 9          Conos_graph_HVG_unscaled        10          9\n",
       " 15        Scanorama_gene_HVG_scaled        11         15\n",
       " 12        BBKNN_graph_FULL_unscaled        12         12\n",
       " 11         BBKNN_graph_HVG_unscaled        13         11\n",
       " 18            MNN_gene_HVG_unscaled        14         18\n",
       " 14          BBKNN_graph_FULL_scaled        15         14\n",
       " 13        Conos_graph_FULL_unscaled        16         13\n",
       " 20         ComBat_gene_HVG_unscaled        17         20\n",
       " 22              MNN_gene_HVG_scaled        18         22\n",
       " 16           BBKNN_graph_HVG_scaled        19         16\n",
       " 23      Scanorama_embed_FULL_scaled        20         23\n",
       " 17         trVAE_embed_HVG_unscaled        21         17\n",
       " 19        trVAE_embed_FULL_unscaled        22         19\n",
       " 21        LIGER_embed_FULL_unscaled        23         21\n",
       " 26      Scanorama_gene_HVG_unscaled        24         26\n",
       " 27           ComBat_gene_HVG_scaled        25         27\n",
       " 24    Scanorama_embed_FULL_unscaled        26         24\n",
       " 25     Scanorama_embed_HVG_unscaled        27         25\n",
       " 32             MNN_gene_FULL_scaled        28         32\n",
       " 33        ComBat_gene_FULL_unscaled        29         33\n",
       " 30     Scanorama_gene_FULL_unscaled        30         30\n",
       " 31           MNN_gene_FULL_unscaled        31         31\n",
       " 35          ComBat_gene_FULL_scaled        32         35\n",
       " 29         LIGER_embed_HVG_unscaled        33         29\n",
       " 34       Scanorama_gene_FULL_scaled        34         34\n",
       " 28         scVI_embed_FULL_unscaled        35         28\n",
       " 38  Unintegrated_gene_FULL_unscaled        36         38\n",
       " 36      Harmony_embed_FULL_unscaled        37         36\n",
       " 37          scVI_embed_HVG_unscaled        38         37)"
      ]
     },
     "execution_count": 93,
     "metadata": {},
     "output_type": "execute_result"
    }
   ],
   "source": [
    "for file in data.keys():\n",
    "    print(f'{file}')\n",
    "    test_ranking(data[file])"
   ]
  },
  {
   "cell_type": "markdown",
   "metadata": {},
   "source": [
    "## For ATAC:"
   ]
  },
  {
   "cell_type": "code",
   "execution_count": 13,
   "metadata": {},
   "outputs": [],
   "source": [
    "#files = !ls ../../../Paper/Supplementary\\ Files/Results/ATAC/*.csv\n",
    "files = ['../../../Paper/202010_Revision/Supplementary Files/Results/ATAC/mouse_brain_atac_large_11batches_summary_scores.csv', '../../../Paper/202010_Revision/Supplementary Files/Results/ATAC/mouse_brain_atac_small_summary_scores.csv']\n",
    "\n",
    "data_atac = {file:pd.read_csv(file) for file in files}"
   ]
  },
  {
   "cell_type": "code",
   "execution_count": 14,
   "metadata": {
    "scrolled": true
   },
   "outputs": [
    {
     "name": "stdout",
     "output_type": "stream",
     "text": [
      "../../../Paper/202010_Revision/Supplementary Files/Results/ATAC/mouse_brain_atac_large_11batches_summary_scores.csv\n"
     ]
    },
    {
     "data": {
      "text/plain": [
       "(0.9882189497082526,               Method_id  rank_zsc  rank_init\n",
       " 10          BBKNN_graph         0         10\n",
       " 0         Harmony_embed         1          0\n",
       " 2           ComBat_gene         2          2\n",
       " 1           ComBat_gene         3          1\n",
       " 4         Harmony_embed         4          4\n",
       " 3           LIGER_embed         5          3\n",
       " 9           BBKNN_graph         6          9\n",
       " 6     Unintegrated_gene         7          6\n",
       " 5           LIGER_embed         8          5\n",
       " 8     Unintegrated_gene         9          8\n",
       " 7         scANVI*_embed        10          7\n",
       " 11          scGen*_gene        11         11\n",
       " 12           scVI_embed        12         12\n",
       " 26          BBKNN_graph        13         26\n",
       " 14  Seurat v3 RPCA_gene        14         14\n",
       " 13           DESC_embed        15         13\n",
       " 16          ComBat_gene        16         16\n",
       " 18    Unintegrated_gene        17         18\n",
       " 15           DESC_embed        18         15\n",
       " 19   Seurat v3 CCA_gene        19         19\n",
       " 17        Harmony_embed        20         17\n",
       " 20      Scanorama_embed        21         20\n",
       " 21       Scanorama_gene        22         21\n",
       " 23         fastMNN_gene        23         23\n",
       " 24        fastMNN_embed        24         24\n",
       " 22          LIGER_embed        25         22\n",
       " 25           DESC_embed        26         25\n",
       " 27          Conos_graph        27         27\n",
       " 34          Conos_graph        28         34\n",
       " 28         SAUCIE_embed        29         28\n",
       " 35          Conos_graph        30         35\n",
       " 29          SAUCIE_gene        31         29\n",
       " 30         SAUCIE_embed        32         30\n",
       " 31          SAUCIE_gene        33         31\n",
       " 32         SAUCIE_embed        34         32\n",
       " 33          SAUCIE_gene        35         33\n",
       " 36             MNN_gene        36         36\n",
       " 37          trVAE_embed        37         37\n",
       " 38        fastMNN_embed        38         38\n",
       " 39         fastMNN_gene        39         39\n",
       " 40             MNN_gene        40         40\n",
       " 41      Scanorama_embed        41         41\n",
       " 42       Scanorama_gene        42         42\n",
       " 43        scANVI*_embed        43         43\n",
       " 44          scGen*_gene        44         44\n",
       " 45           scVI_embed        45         45\n",
       " 46   Seurat v3 CCA_gene        46         46\n",
       " 47  Seurat v3 RPCA_gene        47         47\n",
       " 48          trVAE_embed        48         48\n",
       " 49        fastMNN_embed        49         49\n",
       " 50         fastMNN_gene        50         50\n",
       " 51             MNN_gene        51         51\n",
       " 52      Scanorama_embed        52         52\n",
       " 53       Scanorama_gene        53         53\n",
       " 54        scANVI*_embed        54         54\n",
       " 55          scGen*_gene        55         55\n",
       " 56           scVI_embed        56         56\n",
       " 57   Seurat v3 CCA_gene        57         57\n",
       " 58  Seurat v3 RPCA_gene        58         58\n",
       " 59          trVAE_embed        59         59)"
      ]
     },
     "execution_count": 14,
     "metadata": {},
     "output_type": "execute_result"
    },
    {
     "name": "stdout",
     "output_type": "stream",
     "text": [
      "../../../Paper/202010_Revision/Supplementary Files/Results/ATAC/mouse_brain_atac_small_summary_scores.csv\n"
     ]
    },
    {
     "data": {
      "text/plain": [
       "(0.9755487635454295,               Method_id  rank_zsc  rank_init\n",
       " 1           LIGER_embed         0          1\n",
       " 2    Seurat v3 CCA_gene         1          2\n",
       " 3         scANVI*_embed         2          3\n",
       " 7   Seurat v3 RPCA_gene         3          7\n",
       " 5            scVI_embed         4          5\n",
       " 0           BBKNN_graph         5          0\n",
       " 6         scANVI*_embed         6          6\n",
       " 13  Seurat v3 RPCA_gene         7         13\n",
       " 19    Unintegrated_gene         8         19\n",
       " 11        scANVI*_embed         9         11\n",
       " 14          scGen*_gene        10         14\n",
       " 12           scVI_embed        11         12\n",
       " 8         Harmony_embed        12          8\n",
       " 9           LIGER_embed        13          9\n",
       " 10        Harmony_embed        14         10\n",
       " 20   Seurat v3 CCA_gene        15         20\n",
       " 18          ComBat_gene        16         18\n",
       " 21          scGen*_gene        17         21\n",
       " 17        fastMNN_embed        18         17\n",
       " 4           BBKNN_graph        19          4\n",
       " 15           scVI_embed        20         15\n",
       " 16           DESC_embed        21         16\n",
       " 26             MNN_gene        22         26\n",
       " 24          ComBat_gene        23         24\n",
       " 27    Unintegrated_gene        24         27\n",
       " 23       Scanorama_gene        25         23\n",
       " 22         fastMNN_gene        26         22\n",
       " 25      Scanorama_embed        27         25\n",
       " 28          scGen*_gene        28         28\n",
       " 32          trVAE_embed        29         32\n",
       " 34      Scanorama_embed        30         34\n",
       " 30  Seurat v3 RPCA_gene        31         30\n",
       " 36          trVAE_embed        32         36\n",
       " 33      Scanorama_embed        33         33\n",
       " 29        fastMNN_embed        34         29\n",
       " 38             MNN_gene        35         38\n",
       " 35          ComBat_gene        36         35\n",
       " 31        Harmony_embed        37         31\n",
       " 40          trVAE_embed        38         40\n",
       " 39   Seurat v3 CCA_gene        39         39\n",
       " 43    Unintegrated_gene        40         43\n",
       " 37         fastMNN_gene        41         37\n",
       " 41       Scanorama_gene        42         41\n",
       " 45             MNN_gene        43         45\n",
       " 48          Conos_graph        44         48\n",
       " 42          LIGER_embed        45         42\n",
       " 44       Scanorama_gene        46         44\n",
       " 50        fastMNN_embed        47         50\n",
       " 51         fastMNN_gene        48         51\n",
       " 46          SAUCIE_gene        49         46\n",
       " 47         SAUCIE_embed        50         47\n",
       " 49          BBKNN_graph        51         49\n",
       " 52          SAUCIE_gene        52         52\n",
       " 53         SAUCIE_embed        53         53\n",
       " 58          Conos_graph        54         58\n",
       " 54          SAUCIE_gene        55         54\n",
       " 56         SAUCIE_embed        56         56\n",
       " 55           DESC_embed        57         55\n",
       " 57           DESC_embed        58         57\n",
       " 59          Conos_graph        59         59)"
      ]
     },
     "execution_count": 14,
     "metadata": {},
     "output_type": "execute_result"
    }
   ],
   "source": [
    "for file in data_atac.keys():\n",
    "    print(f'{file}')\n",
    "    test_ranking(data_atac[file])"
   ]
  },
  {
   "cell_type": "markdown",
   "metadata": {},
   "source": [
    "With z-scoring BBKNN (on which fewer metrics are computed) would be ranked higher. This is potentially less robust than our ranking."
   ]
  }
 ],
 "metadata": {
  "kernelspec": {
   "display_name": "Python 3",
   "language": "python",
   "name": "python3"
  },
  "language_info": {
   "codemirror_mode": {
    "name": "ipython",
    "version": 3
   },
   "file_extension": ".py",
   "mimetype": "text/x-python",
   "name": "python",
   "nbconvert_exporter": "python",
   "pygments_lexer": "ipython3",
   "version": "3.7.6"
  }
 },
 "nbformat": 4,
 "nbformat_minor": 2
}
